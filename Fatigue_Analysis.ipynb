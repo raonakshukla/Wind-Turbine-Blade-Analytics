{
 "cells": [
  {
   "cell_type": "markdown",
   "id": "4ba49cac-1b4b-45e0-ada9-4acdd9cefb03",
   "metadata": {},
   "source": [
    "## Import Major Libraries"
   ]
  },
  {
   "cell_type": "code",
   "execution_count": 3,
   "id": "036f180d-99f5-493d-950e-b91143fff56b",
   "metadata": {},
   "outputs": [],
   "source": [
    "import pandas as pd\n",
    "import numpy as np\n",
    "import matplotlib.pyplot as plt\n",
    "import warnings as wr\n",
    "from scipy.signal import hilbert, get_window\n",
    "wr.filterwarnings('ignore')"
   ]
  },
  {
   "cell_type": "markdown",
   "id": "8bf0a67f-8f0c-47c4-9b31-cf51324b7806",
   "metadata": {},
   "source": [
    "## Importing the Dataset"
   ]
  },
  {
   "cell_type": "code",
   "execution_count": 5,
   "id": "0a5b2c54-26a6-444c-b61c-c2eee0d0be9e",
   "metadata": {},
   "outputs": [],
   "source": [
    "# Importing the CSV file\n",
    "df = pd.read_csv('B1_CL4_20.csv',low_memory=False)"
   ]
  },
  {
   "cell_type": "markdown",
   "id": "fdc936fa-b8f2-48f6-bf4c-a4969c94729b",
   "metadata": {},
   "source": [
    "## Inputs required for Fatigue Analysis\n",
    "### The material properties used in this analysis are not provided in the dataset. These values were sourced from relevant research studies in material science literature."
   ]
  },
  {
   "cell_type": "code",
   "execution_count": 7,
   "id": "fe9718e5-5136-4a1f-94f3-053ea1294cc5",
   "metadata": {},
   "outputs": [],
   "source": [
    "TIME_COL   = \"Time\"        # seconds since 1904 (per your dataset)\n",
    "SIG_COL    = \"B1EMR\"       # moment signal to analyze\n",
    "FS         = None          # will estimate from timestamps\n",
    "WIN_SEC    = 3900          # fatigue reporting window (e.g., 10 min)\n",
    "\n",
    "# Mechanics / materials (optional but recommended)\n",
    "MOD_ELAS   = 280*10e3      # [MPa] Modulus of Elasticity to convert strain -> stress\n",
    "SIG_ULT    = 1200          # [MPa] Ultimate stress for Goodman correction.\n",
    "\n",
    "# S-N curve (Wöhler): N = C / σ_a^m   (σ_a in MPa after Goodman)\n",
    "SN_C       = 1.9e20     # example constant — tune to your material\n",
    "SN_m       = 6           # typical slope for composites/steels (set appropriately)"
   ]
  },
  {
   "cell_type": "markdown",
   "id": "cbdfc5bb-9fcb-4438-914a-04766a341a83",
   "metadata": {},
   "source": [
    "## Data Processing"
   ]
  },
  {
   "cell_type": "code",
   "execution_count": 9,
   "id": "c8b2483e-9903-4cf8-8699-7c69a3693b8d",
   "metadata": {},
   "outputs": [],
   "source": [
    "# Convert time column to Date_Time Format\n",
    "def time_to_datetime(series_sec):\n",
    "    epoch = pd.Timestamp(\"1904-01-01 00:00:00Z\")\n",
    "    t = epoch + pd.to_timedelta(series_sec.astype(float), unit=\"s\")\n",
    "    return t.dt.tz_localize(None)"
   ]
  },
  {
   "cell_type": "code",
   "execution_count": 10,
   "id": "a05ad867-5719-4bab-9af8-3dbf36e828c1",
   "metadata": {},
   "outputs": [],
   "source": [
    "# Find reversal or turning points in the signal\n",
    "def find_reversals(x):\n",
    "    \"\"\"Return array of turning points (peaks/valleys) as required by ASTM E1049.\"\"\"\n",
    "    x = np.asarray(x, dtype=float)\n",
    "    # remove consecutive duplicates\n",
    "    x = x[np.insert(np.diff(x) != 0, 0, True)]\n",
    "    if len(x) < 3:\n",
    "        return x\n",
    "    # monotonicity changes\n",
    "    dx = np.diff(x)\n",
    "    s  = np.sign(dx)\n",
    "    turn = np.where(np.diff(s) != 0)[0] + 1\n",
    "    # Always include first and last\n",
    "    idx = np.concatenate(([0], turn, [len(x)-1]))\n",
    "    return x[idx]"
   ]
  },
  {
   "cell_type": "code",
   "execution_count": 11,
   "id": "a871e167-c6bb-4a22-b4c6-8b8f74f7c454",
   "metadata": {},
   "outputs": [],
   "source": [
    "# rainflow counting (ASTM 4-point method)\n",
    "def rainflow_ranges_means(sig):\n",
    "    \"\"\"Return list of (range, mean, count) cycles. Half cycles included as 0.5 count.\"\"\"\n",
    "    y = find_reversals(sig)\n",
    "    S = []        # stack of reversals\n",
    "    cycles = []   # (range, mean, count)\n",
    "\n",
    "    for v in y:\n",
    "        S.append(v)\n",
    "        while len(S) >= 3:\n",
    "            x1, x2, x3 = S[-3], S[-2], S[-1]\n",
    "            r1 = abs(x2 - x1)\n",
    "            r2 = abs(x3 - x2)\n",
    "            if r1 <= r2:\n",
    "                rng = r1\n",
    "                mean = (x1 + x2)/2.0\n",
    "                cycles.append((rng, mean, 1.0))\n",
    "                # remove middle element (x2)\n",
    "                S.pop(-2)\n",
    "            else:\n",
    "                break\n",
    "    # remaining stack -> half cycles\n",
    "    for i in range(len(S)-1):\n",
    "        rng = abs(S[i+1] - S[i])\n",
    "        mean = (S[i+1] + S[i]) / 2.0\n",
    "        cycles.append((rng, mean, 0.5))\n",
    "    return cycles"
   ]
  },
  {
   "cell_type": "code",
   "execution_count": 12,
   "id": "b5a41d24-a1ab-45a0-8c2d-562b80afd9c3",
   "metadata": {},
   "outputs": [],
   "source": [
    "# Converting to Stress if the Modulus of Elasticity of the turbine blade is given\n",
    "def to_stress(range_vals, mean_vals):\n",
    "    \"\"\"Convert moment ranges/means to stress (MPa) if MOD_ELAS given; else pass-through.\"\"\"\n",
    "    rng = np.asarray(range_vals, dtype=float)\n",
    "    mea = np.asarray(mean_vals, dtype=float)\n",
    "    if MOD_ELAS is not None:\n",
    "        rng = rng * MOD_ELAS\n",
    "        mea = mea * MOD_ELAS\n",
    "    return rng, mea\n",
    "\n",
    "def goodman_correction(sigma_a, sigma_m, sigma_ult):\n",
    "    \"\"\"σa_corrected = σa / (1 - σm/σult). Clip to avoid division by ~0.\"\"\"\n",
    "    if sigma_ult is None:\n",
    "        return sigma_a\n",
    "    denom = np.maximum(1.0 - (sigma_m / sigma_ult), 1e-6)\n",
    "    return sigma_a / denom"
   ]
  },
  {
   "cell_type": "code",
   "execution_count": 13,
   "id": "51795bd6-b122-4d20-8171-3e94426a1a17",
   "metadata": {},
   "outputs": [],
   "source": [
    "# damage from SN curve \n",
    "def damage_from_cycles(cycles):\n",
    "    \"\"\"Return DataFrame of cycles with damage contribution.\"\"\"\n",
    "    rng, mea, cnt = map(np.array, zip(*cycles))\n",
    "    # convert to stress & alternating stress\n",
    "    rng_s, mea_s = to_stress(rng, mea)\n",
    "    sigma_a = rng_s / 2.0\n",
    "    sigma_m = mea_s\n",
    "\n",
    "    # Goodman (optional)\n",
    "    sigma_a_corr = goodman_correction(sigma_a, sigma_m, SIG_ULT)\n",
    "\n",
    "    # cycles to failure: N = C / σ_a^m  => damage = n / N\n",
    "    Nf = SN_C / np.power(np.maximum(sigma_a_corr, 1e-12), SN_m)\n",
    "    dmg = np.power((np.array(cnt) / Nf),.8)  # Assuming non linear damage once the crack has inititaed\n",
    "\n",
    "    out = pd.DataFrame({\n",
    "        \"range_raw\": rng,\n",
    "        \"mean_raw\": mea,\n",
    "        \"sigma_a\": sigma_a,\n",
    "        \"sigma_m\": sigma_m,\n",
    "        \"sigma_a_corr\": sigma_a_corr,\n",
    "        \"count\": cnt,\n",
    "        \"Nf\": Nf,\n",
    "        \"damage\": dmg\n",
    "    })\n",
    "    return out"
   ]
  },
  {
   "cell_type": "code",
   "execution_count": 14,
   "id": "27f5e337-4a33-4236-b166-f4e592f11b1e",
   "metadata": {},
   "outputs": [],
   "source": [
    "#  per-window fatigue\n",
    "def fatigue_by_windows(t, x, win_sec=WIN_SEC):\n",
    "    \"\"\"Compute rainflow + Miner damage per window over the time series.\"\"\"\n",
    "    t = pd.DatetimeIndex(t)\n",
    "    df = pd.DataFrame({\"x\": x}, index=t).dropna()\n",
    "    if df.empty:\n",
    "        raise ValueError(\"No data for fatigue.\")\n",
    "    # split by windows using pandas.Grouper\n",
    "    groups = df.groupby(pd.Grouper(freq=f\"{win_sec}s\"))\n",
    "    rows = []\n",
    "    mats = []  # store matrices for optional aggregation\n",
    "    for gidx, g in groups:\n",
    "        if len(g) < 3:  # need at least a few points\n",
    "            continue\n",
    "        cycles = rainflow_ranges_means(g[\"x\"].values)\n",
    "        ddf = damage_from_cycles(cycles)\n",
    "        D = ddf[\"damage\"].sum()\n",
    "        rows.append({\"window_start\": g.index[0], \"window_end\": g.index[-1], \"damage\": D, \"n_cycles\": len(ddf)})\n",
    "    return pd.DataFrame(rows)"
   ]
  },
  {
   "cell_type": "code",
   "execution_count": 15,
   "id": "adbc82f0-20c6-4f92-906b-cb95faae2911",
   "metadata": {},
   "outputs": [
    {
     "name": "stdout",
     "output_type": "stream",
     "text": [
      "Total Miner damage (whole record): 1.5166e-01  | number of cycles: 1322109\n"
     ]
    }
   ],
   "source": [
    "# time to datetime and estimate sampling rate (only for reference)\n",
    "t = time_to_datetime(df[TIME_COL])\n",
    "x = df[SIG_COL].astype(float).values\n",
    "\n",
    "# optional: (light) detrend to remove very slow drift (keeps cycles)\n",
    "# x = x - pd.Series(x).rolling(1001, center=True, min_periods=200).mean().to_numpy()\n",
    "\n",
    "# 2) Rainflow over full record\n",
    "cycles = rainflow_ranges_means(x)\n",
    "rf = damage_from_cycles(cycles)\n",
    "total_damage = rf[\"damage\"].sum()\n",
    "\n",
    "print(f\"Total Miner damage (whole record): {total_damage:.4e}  | number of cycles: {len(rf)}\")\n"
   ]
  },
  {
   "cell_type": "markdown",
   "id": "cc23305d-c2ba-4a29-8bc7-5b5eac1a3576",
   "metadata": {},
   "source": [
    "# Plots for each window"
   ]
  },
  {
   "cell_type": "code",
   "execution_count": 17,
   "id": "7ce2b6bd-b87f-4e9d-a7aa-2480f727bc6a",
   "metadata": {},
   "outputs": [
    {
     "data": {
      "image/png": "[encoded data removed]",
      "text/plain": [
       "<Figure size 1000x700 with 2 Axes>"
      ]
     },
     "metadata": {},
     "output_type": "display_data"
    }
   ],
   "source": [
    "fat = fatigue_by_windows(t, x, win_sec=WIN_SEC)\n",
    "fat[\"cum_damage\"] = fat[\"damage\"].cumsum()\n",
    "\n",
    "fig, ax = plt.subplots(2,1, figsize=(10,7), sharex=True)\n",
    "ax[0].plot(fat[\"window_start\"], fat[\"damage\"], drawstyle=\"steps-post\")\n",
    "ax[0].set_ylabel(f\"Damage / {WIN_SEC}s\")\n",
    "ax[0].grid(alpha=0.3)\n",
    "ax[0].set_title(\"Fatigue Damage Rate (Miner)\")\n",
    "\n",
    "ax[1].plot(fat[\"window_start\"], fat[\"cum_damage\"], color=\"C3\")\n",
    "ax[1].set_ylabel(\"Cumulative Damage\")\n",
    "ax[1].set_xlabel(\"Time\")\n",
    "ax[1].grid(alpha=0.3)\n",
    "plt.tight_layout()\n",
    "plt.show()"
   ]
  },
  {
   "cell_type": "markdown",
   "id": "88d53324-b50a-425a-aeb5-7efb299ad234",
   "metadata": {},
   "source": [
    "# Summary Table"
   ]
  },
  {
   "cell_type": "code",
   "execution_count": 19,
   "id": "f91a7837-96c1-46dc-baf0-7acad9502714",
   "metadata": {},
   "outputs": [
    {
     "name": "stdout",
     "output_type": "stream",
     "text": [
      "   total_cycles  total_damage  avg_damage_per_window  max_damage_window  \\\n",
      "0       1322109      0.151664               0.001316           0.008616   \n",
      "\n",
      "   windows  \n",
      "0      129  \n"
     ]
    }
   ],
   "source": [
    "summary = pd.DataFrame({\n",
    "    \"total_cycles\": [len(rf)],\n",
    "    \"total_damage\": [total_damage],\n",
    "    \"avg_damage_per_window\": [fat[\"damage\"].mean()],\n",
    "    \"max_damage_window\": [fat[\"damage\"].max()],\n",
    "    \"windows\": [len(fat)]\n",
    "})\n",
    "print(summary)"
   ]
  }
 ],
 "metadata": {
  "kernelspec": {
   "display_name": "Python 3 (ipykernel)",
   "language": "python",
   "name": "python3"
  },
  "language_info": {
   "codemirror_mode": {
    "name": "ipython",
    "version": 3
   },
   "file_extension": ".py",
   "mimetype": "text/x-python",
   "name": "python",
   "nbconvert_exporter": "python",
   "pygments_lexer": "ipython3",
   "version": "3.11.7"
  }
 },
 "nbformat": 4,
 "nbformat_minor": 5
}
